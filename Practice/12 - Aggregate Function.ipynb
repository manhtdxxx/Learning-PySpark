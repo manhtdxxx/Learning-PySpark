{
 "cells": [
  {
   "cell_type": "code",
   "execution_count": 1,
   "metadata": {},
   "outputs": [],
   "source": [
    "from pyspark.sql import SparkSession\n",
    "from pyspark.sql.functions import *"
   ]
  },
  {
   "cell_type": "code",
   "execution_count": 2,
   "metadata": {},
   "outputs": [],
   "source": [
    "spark = SparkSession.builder. \\\n",
    "appName(\"Aggregate Func\"). \\\n",
    "getOrCreate()"
   ]
  },
  {
   "cell_type": "code",
   "execution_count": 3,
   "metadata": {},
   "outputs": [
    {
     "name": "stdout",
     "output_type": "stream",
     "text": [
      "+---------+---------+--------------------+--------+---------------+---------+----------+--------------+\n",
      "|InvoiceNo|StockCode|         Description|Quantity|    InvoiceDate|UnitPrice|CustomerID|       Country|\n",
      "+---------+---------+--------------------+--------+---------------+---------+----------+--------------+\n",
      "|   536378|     NULL|PACK OF 60 DINOSA...|      24|01-12-2010 9.37|     0.55|     14688|United Kingdom|\n",
      "|   536378|     NULL|PACK OF 60 PINK P...|      24|01-12-2010 9.37|     0.55|     14688|United Kingdom|\n",
      "|   536378|    84991|60 TEATIME FAIRY ...|      24|01-12-2010 9.37|     0.55|     14688|United Kingdom|\n",
      "|   536378|   84519A|TOMATO CHARLIE+LO...|       6|01-12-2010 9.37|     2.95|     14688|United Kingdom|\n",
      "|   536378|   85183B|CHARLIE & LOLA WA...|      48|01-12-2010 9.37|     1.25|     14688|United Kingdom|\n",
      "+---------+---------+--------------------+--------+---------------+---------+----------+--------------+\n",
      "only showing top 5 rows\n",
      "\n"
     ]
    }
   ],
   "source": [
    "order_df = spark.read.csv(\"./dataset/order_data.csv\", header=True, inferSchema=True)\n",
    "order_df.show(5)"
   ]
  },
  {
   "cell_type": "code",
   "execution_count": 4,
   "metadata": {},
   "outputs": [],
   "source": [
    "order_df.createOrReplaceTempView(\"order_tmp\")"
   ]
  },
  {
   "cell_type": "code",
   "execution_count": 5,
   "metadata": {},
   "outputs": [
    {
     "data": {
      "text/plain": [
       "8"
      ]
     },
     "execution_count": 5,
     "metadata": {},
     "output_type": "execute_result"
    }
   ],
   "source": [
    "order_df.rdd.getNumPartitions()"
   ]
  },
  {
   "cell_type": "code",
   "execution_count": 6,
   "metadata": {},
   "outputs": [
    {
     "name": "stdout",
     "output_type": "stream",
     "text": [
      "root\n",
      " |-- InvoiceNo: string (nullable = true)\n",
      " |-- StockCode: string (nullable = true)\n",
      " |-- Description: string (nullable = true)\n",
      " |-- Quantity: integer (nullable = true)\n",
      " |-- InvoiceDate: string (nullable = true)\n",
      " |-- UnitPrice: double (nullable = true)\n",
      " |-- CustomerID: integer (nullable = true)\n",
      " |-- Country: string (nullable = true)\n",
      "\n"
     ]
    }
   ],
   "source": [
    "order_df.printSchema()"
   ]
  },
  {
   "cell_type": "markdown",
   "metadata": {},
   "source": [
    "### 1. Tính tổng số dòng"
   ]
  },
  {
   "cell_type": "code",
   "execution_count": 7,
   "metadata": {},
   "outputs": [
    {
     "name": "stdout",
     "output_type": "stream",
     "text": [
      "+----------+\n",
      "|total_rows|\n",
      "+----------+\n",
      "|    541782|\n",
      "+----------+\n",
      "\n"
     ]
    }
   ],
   "source": [
    "order_df.select(count(\"*\").alias(\"total_rows\")).show()  # return DF"
   ]
  },
  {
   "cell_type": "code",
   "execution_count": 8,
   "metadata": {},
   "outputs": [
    {
     "data": {
      "text/plain": [
       "541782"
      ]
     },
     "execution_count": 8,
     "metadata": {},
     "output_type": "execute_result"
    }
   ],
   "source": [
    "order_df.count()  # returns int"
   ]
  },
  {
   "cell_type": "markdown",
   "metadata": {},
   "source": [
    "### 2. Tính số hóa đơn"
   ]
  },
  {
   "cell_type": "code",
   "execution_count": 9,
   "metadata": {},
   "outputs": [
    {
     "name": "stdout",
     "output_type": "stream",
     "text": [
      "+---------------------+\n",
      "|total_unique_invoices|\n",
      "+---------------------+\n",
      "|                25858|\n",
      "+---------------------+\n",
      "\n"
     ]
    }
   ],
   "source": [
    "order_df.select(countDistinct(order_df.InvoiceNo).alias(\"total_unique_invoices\")).show()  # return DF"
   ]
  },
  {
   "cell_type": "code",
   "execution_count": 10,
   "metadata": {},
   "outputs": [
    {
     "data": {
      "text/plain": [
       "25858"
      ]
     },
     "execution_count": 10,
     "metadata": {},
     "output_type": "execute_result"
    }
   ],
   "source": [
    "order_df.select(order_df.InvoiceNo).distinct().count()  # returns int"
   ]
  },
  {
   "cell_type": "markdown",
   "metadata": {},
   "source": [
    "### 3. Tính tổng số lượng hàng bán & giá bán trung bình"
   ]
  },
  {
   "cell_type": "code",
   "execution_count": 11,
   "metadata": {},
   "outputs": [
    {
     "name": "stdout",
     "output_type": "stream",
     "text": [
      "+--------------+---------+\n",
      "|total_quantity|avg_price|\n",
      "+--------------+---------+\n",
      "|       5175855|     4.61|\n",
      "+--------------+---------+\n",
      "\n"
     ]
    }
   ],
   "source": [
    "order_df.select(sum(order_df.Quantity).alias(\"total_quantity\"), round(avg(order_df.UnitPrice), 2).alias(\"avg_price\")).show()"
   ]
  },
  {
   "cell_type": "code",
   "execution_count": 12,
   "metadata": {},
   "outputs": [
    {
     "name": "stdout",
     "output_type": "stream",
     "text": [
      "+--------------+---------+\n",
      "|total_quantity|avg_price|\n",
      "+--------------+---------+\n",
      "|       5175855|     4.61|\n",
      "+--------------+---------+\n",
      "\n"
     ]
    }
   ],
   "source": [
    "order_df.selectExpr(\"sum(Quantity) as total_quantity\", \"round(avg(UnitPrice), 2) as avg_price\").show()"
   ]
  },
  {
   "cell_type": "code",
   "execution_count": 13,
   "metadata": {},
   "outputs": [
    {
     "name": "stdout",
     "output_type": "stream",
     "text": [
      "+--------------+---------+\n",
      "|total_quantity|avg_price|\n",
      "+--------------+---------+\n",
      "|       5175855|     4.61|\n",
      "+--------------+---------+\n",
      "\n"
     ]
    }
   ],
   "source": [
    "spark.sql(\"select sum(Quantity) total_quantity, round(avg(UnitPrice),2) avg_price from order_tmp\").show()"
   ]
  },
  {
   "cell_type": "markdown",
   "metadata": {},
   "source": [
    "### 4. Tổng số lượng hàng hóa theo quốc gia"
   ]
  },
  {
   "cell_type": "code",
   "execution_count": 14,
   "metadata": {},
   "outputs": [
    {
     "name": "stdout",
     "output_type": "stream",
     "text": [
      "+---------------+--------------+------------+\n",
      "|        Country|total_quantity|total_amount|\n",
      "+---------------+--------------+------------+\n",
      "|         Sweden|         35637|     36595.9|\n",
      "|      Singapore|          5234|      9120.4|\n",
      "|        Germany|        117448|    221698.2|\n",
      "|         France|        110031|    196548.0|\n",
      "|         Greece|          1556|      4710.5|\n",
      "|        Belgium|         23152|     40911.0|\n",
      "|        Finland|         10666|     22326.7|\n",
      "|          Italy|          7999|     16890.5|\n",
      "|           EIRE|        142637|    263276.8|\n",
      "|      Lithuania|           652|      1661.1|\n",
      "|         Norway|         19247|     35163.5|\n",
      "|          Spain|         26824|     54774.6|\n",
      "|        Denmark|          8188|     18768.1|\n",
      "|      Hong Kong|          4769|     10117.0|\n",
      "|        Iceland|          2458|      4310.0|\n",
      "|         Israel|          4353|      7907.8|\n",
      "|Channel Islands|          9479|     20086.3|\n",
      "|         Cyprus|          6317|     12946.3|\n",
      "|    Switzerland|         30325|     56385.3|\n",
      "|        Lebanon|           386|      1693.9|\n",
      "+---------------+--------------+------------+\n",
      "only showing top 20 rows\n",
      "\n"
     ]
    }
   ],
   "source": [
    "order_df.groupBy(order_df.Country).agg(\n",
    "    sum(order_df.Quantity).alias(\"total_quantity\"),\n",
    "    round(sum(order_df.Quantity * order_df.UnitPrice), 1).alias(\"total_amount\")\n",
    ").show()\n",
    "# no need .select() because Spark will automatically understand"
   ]
  },
  {
   "cell_type": "code",
   "execution_count": 15,
   "metadata": {},
   "outputs": [
    {
     "name": "stdout",
     "output_type": "stream",
     "text": [
      "+---------------+--------------+------------+\n",
      "|        Country|total_quantity|total_amount|\n",
      "+---------------+--------------+------------+\n",
      "|         Sweden|         35637|     36595.9|\n",
      "|      Singapore|          5234|      9120.4|\n",
      "|        Germany|        117448|    221698.2|\n",
      "|         France|        110031|    196548.0|\n",
      "|         Greece|          1556|      4710.5|\n",
      "|        Belgium|         23152|     40911.0|\n",
      "|        Finland|         10666|     22326.7|\n",
      "|          Italy|          7999|     16890.5|\n",
      "|           EIRE|        142637|    263276.8|\n",
      "|      Lithuania|           652|      1661.1|\n",
      "|         Norway|         19247|     35163.5|\n",
      "|          Spain|         26824|     54774.6|\n",
      "|        Denmark|          8188|     18768.1|\n",
      "|      Hong Kong|          4769|     10117.0|\n",
      "|        Iceland|          2458|      4310.0|\n",
      "|         Israel|          4353|      7907.8|\n",
      "|Channel Islands|          9479|     20086.3|\n",
      "|         Cyprus|          6317|     12946.3|\n",
      "|    Switzerland|         30325|     56385.3|\n",
      "|        Lebanon|           386|      1693.9|\n",
      "+---------------+--------------+------------+\n",
      "only showing top 20 rows\n",
      "\n"
     ]
    }
   ],
   "source": [
    "order_df.groupBy(order_df.Country).agg(\n",
    "    expr(\"sum(Quantity) as total_quantity\"),\n",
    "    expr(\"round(sum(Quantity * UnitPrice), 1) as total_amount\"),\n",
    ").show()"
   ]
  },
  {
   "cell_type": "code",
   "execution_count": 16,
   "metadata": {},
   "outputs": [
    {
     "name": "stdout",
     "output_type": "stream",
     "text": [
      "+---------------+--------------+------------+\n",
      "|        Country|total_quantity|total_amount|\n",
      "+---------------+--------------+------------+\n",
      "|         Sweden|         35637|     36595.9|\n",
      "|      Singapore|          5234|      9120.4|\n",
      "|        Germany|        117448|    221698.2|\n",
      "|         France|        110031|    196548.0|\n",
      "|         Greece|          1556|      4710.5|\n",
      "|        Belgium|         23152|     40911.0|\n",
      "|        Finland|         10666|     22326.7|\n",
      "|          Italy|          7999|     16890.5|\n",
      "|           EIRE|        142637|    263276.8|\n",
      "|      Lithuania|           652|      1661.1|\n",
      "|         Norway|         19247|     35163.5|\n",
      "|          Spain|         26824|     54774.6|\n",
      "|        Denmark|          8188|     18768.1|\n",
      "|      Hong Kong|          4769|     10117.0|\n",
      "|        Iceland|          2458|      4310.0|\n",
      "|         Israel|          4353|      7907.8|\n",
      "|Channel Islands|          9479|     20086.3|\n",
      "|         Cyprus|          6317|     12946.3|\n",
      "|    Switzerland|         30325|     56385.3|\n",
      "|        Lebanon|           386|      1693.9|\n",
      "+---------------+--------------+------------+\n",
      "only showing top 20 rows\n",
      "\n"
     ]
    }
   ],
   "source": [
    "spark.sql(\n",
    "    \"\"\"\n",
    "        select Country, sum(Quantity) as total_quantity, round(sum(Quantity * UnitPrice), 1) as total_amount\n",
    "        from order_tmp\n",
    "        group by Country\n",
    "    \"\"\"\n",
    ").show()"
   ]
  },
  {
   "cell_type": "code",
   "execution_count": null,
   "metadata": {},
   "outputs": [],
   "source": []
  }
 ],
 "metadata": {
  "kernelspec": {
   "display_name": "Python 3",
   "language": "python",
   "name": "python3"
  },
  "language_info": {
   "codemirror_mode": {
    "name": "ipython",
    "version": 3
   },
   "file_extension": ".py",
   "mimetype": "text/x-python",
   "name": "python",
   "nbconvert_exporter": "python",
   "pygments_lexer": "ipython3",
   "version": "3.10.11"
  }
 },
 "nbformat": 4,
 "nbformat_minor": 2
}
