{
 "cells": [
  {
   "cell_type": "code",
   "execution_count": 1,
   "metadata": {},
   "outputs": [],
   "source": [
    "from pyspark.sql import SparkSession"
   ]
  },
  {
   "cell_type": "code",
   "execution_count": 2,
   "metadata": {},
   "outputs": [],
   "source": [
    "spark = SparkSession.builder. \\\n",
    "appName(\"Removing Duplicates\"). \\\n",
    "getOrCreate()"
   ]
  },
  {
   "cell_type": "code",
   "execution_count": 3,
   "metadata": {},
   "outputs": [],
   "source": [
    "people_list = [\n",
    "    (1, \"Hoa\", 34, \"50M\"),\n",
    "    (1, \"Hoa\", 34, \"50M\"),\n",
    "    (1, \"Hoa\", 34, \"60M\"),\n",
    "    (1, \"Nam\", 26, \"30M\"),\n",
    "    (2, \"Nam\", 26, \"40M\")\n",
    "]\n",
    "\n",
    "header = [\"id\", \"name\", \"age\", \"salary\"]"
   ]
  },
  {
   "cell_type": "code",
   "execution_count": 4,
   "metadata": {},
   "outputs": [
    {
     "name": "stdout",
     "output_type": "stream",
     "text": [
      "+---+----+---+------+\n",
      "| id|name|age|salary|\n",
      "+---+----+---+------+\n",
      "|  1| Hoa| 34|   50M|\n",
      "|  1| Hoa| 34|   50M|\n",
      "|  1| Hoa| 34|   60M|\n",
      "|  1| Nam| 26|   30M|\n",
      "|  2| Nam| 26|   40M|\n",
      "+---+----+---+------+\n",
      "\n"
     ]
    }
   ],
   "source": [
    "df = spark.createDataFrame(people_list).toDF(*header)\n",
    "df.show()"
   ]
  },
  {
   "cell_type": "code",
   "execution_count": 5,
   "metadata": {},
   "outputs": [
    {
     "name": "stdout",
     "output_type": "stream",
     "text": [
      "+---+----+---+------+\n",
      "| id|name|age|salary|\n",
      "+---+----+---+------+\n",
      "|  1| Hoa| 34|   50M|\n",
      "|  1| Hoa| 34|   60M|\n",
      "|  2| Nam| 26|   40M|\n",
      "|  1| Nam| 26|   30M|\n",
      "+---+----+---+------+\n",
      "\n"
     ]
    }
   ],
   "source": [
    "df_distinct = df.distinct()\n",
    "df_distinct.show()"
   ]
  },
  {
   "cell_type": "code",
   "execution_count": 6,
   "metadata": {},
   "outputs": [
    {
     "name": "stdout",
     "output_type": "stream",
     "text": [
      "+---+----+---+------+\n",
      "| id|name|age|salary|\n",
      "+---+----+---+------+\n",
      "|  1| Hoa| 34|   50M|\n",
      "|  2| Nam| 26|   40M|\n",
      "+---+----+---+------+\n",
      "\n"
     ]
    }
   ],
   "source": [
    "df_dropDup_1 = df.dropDuplicates([\"id\"])\n",
    "df_dropDup_1.show()"
   ]
  },
  {
   "cell_type": "code",
   "execution_count": 7,
   "metadata": {},
   "outputs": [
    {
     "name": "stdout",
     "output_type": "stream",
     "text": [
      "+---+----+---+------+\n",
      "| id|name|age|salary|\n",
      "+---+----+---+------+\n",
      "|  1| Hoa| 34|   50M|\n",
      "|  1| Nam| 26|   30M|\n",
      "|  2| Nam| 26|   40M|\n",
      "+---+----+---+------+\n",
      "\n"
     ]
    }
   ],
   "source": [
    "df_dropDup_2 = df.dropDuplicates([\"id\", \"name\"])\n",
    "df_dropDup_2.show()"
   ]
  },
  {
   "cell_type": "code",
   "execution_count": null,
   "metadata": {},
   "outputs": [],
   "source": [
    "from pyspark.sql.window import Window, WindowSpec\n",
    "from pyspark.sql.functions import rank, dense_rank, percent_rank, row_number, desc, asc"
   ]
  },
  {
   "cell_type": "code",
   "execution_count": 9,
   "metadata": {},
   "outputs": [],
   "source": [
    "window = Window.partitionBy(\"id\").orderBy(desc(\"age\"), asc(\"salary\"))"
   ]
  },
  {
   "cell_type": "code",
   "execution_count": 10,
   "metadata": {},
   "outputs": [
    {
     "name": "stdout",
     "output_type": "stream",
     "text": [
      "+---+----+---+------+----------+\n",
      "| id|name|age|salary|row_number|\n",
      "+---+----+---+------+----------+\n",
      "|  1| Hoa| 34|   50M|         1|\n",
      "|  1| Hoa| 34|   50M|         2|\n",
      "|  1| Hoa| 34|   60M|         3|\n",
      "|  1| Nam| 26|   30M|         4|\n",
      "|  2| Nam| 26|   40M|         1|\n",
      "+---+----+---+------+----------+\n",
      "\n"
     ]
    }
   ],
   "source": [
    "df_window = df.withColumn(\"row_number\", row_number().over(window))\n",
    "df_window.show()"
   ]
  },
  {
   "cell_type": "code",
   "execution_count": 11,
   "metadata": {},
   "outputs": [
    {
     "name": "stdout",
     "output_type": "stream",
     "text": [
      "+---+----+---+------+\n",
      "| id|name|age|salary|\n",
      "+---+----+---+------+\n",
      "|  1| Hoa| 34|   50M|\n",
      "|  2| Nam| 26|   40M|\n",
      "+---+----+---+------+\n",
      "\n"
     ]
    }
   ],
   "source": [
    "df_rowNum1 = df_window.where(\"row_number = 1\").drop(\"row_number\")\n",
    "df_rowNum1.show()"
   ]
  },
  {
   "cell_type": "code",
   "execution_count": null,
   "metadata": {},
   "outputs": [],
   "source": []
  }
 ],
 "metadata": {
  "kernelspec": {
   "display_name": "Python 3",
   "language": "python",
   "name": "python3"
  },
  "language_info": {
   "codemirror_mode": {
    "name": "ipython",
    "version": 3
   },
   "file_extension": ".py",
   "mimetype": "text/x-python",
   "name": "python",
   "nbconvert_exporter": "python",
   "pygments_lexer": "ipython3",
   "version": "3.10.11"
  }
 },
 "nbformat": 4,
 "nbformat_minor": 2
}
