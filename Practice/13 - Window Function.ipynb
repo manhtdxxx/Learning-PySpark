{
 "cells": [
  {
   "cell_type": "code",
   "execution_count": 1,
   "id": "3767824d",
   "metadata": {},
   "outputs": [],
   "source": [
    "from pyspark.sql import SparkSession\n",
    "from pyspark.sql.window import Window\n",
    "from pyspark.sql.functions import *"
   ]
  },
  {
   "cell_type": "code",
   "execution_count": null,
   "id": "24eed8ac",
   "metadata": {},
   "outputs": [],
   "source": []
  },
  {
   "cell_type": "markdown",
   "id": "58dc89b5",
   "metadata": {},
   "source": [
    "### Rank, Dense_Rank, Row_Number"
   ]
  },
  {
   "cell_type": "code",
   "execution_count": null,
   "id": "8985ab35",
   "metadata": {},
   "outputs": [],
   "source": []
  },
  {
   "cell_type": "markdown",
   "id": "3ee64d7d",
   "metadata": {},
   "source": [
    "### Lead & Lag"
   ]
  },
  {
   "cell_type": "code",
   "execution_count": null,
   "id": "1c11358a",
   "metadata": {},
   "outputs": [],
   "source": []
  }
 ],
 "metadata": {
  "kernelspec": {
   "display_name": "Python 3",
   "language": "python",
   "name": "python3"
  },
  "language_info": {
   "codemirror_mode": {
    "name": "ipython",
    "version": 3
   },
   "file_extension": ".py",
   "mimetype": "text/x-python",
   "name": "python",
   "nbconvert_exporter": "python",
   "pygments_lexer": "ipython3",
   "version": "3.10.11"
  }
 },
 "nbformat": 4,
 "nbformat_minor": 5
}
