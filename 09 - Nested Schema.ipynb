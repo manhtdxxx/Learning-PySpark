{
 "cells": [
  {
   "cell_type": "code",
   "execution_count": 1,
   "metadata": {},
   "outputs": [],
   "source": [
    "from pyspark.sql import SparkSession\n",
    "from pyspark.sql.types import StructType, StructField, LongType, StringType, IntegerType"
   ]
  },
  {
   "cell_type": "code",
   "execution_count": 2,
   "metadata": {},
   "outputs": [],
   "source": [
    "spark = SparkSession.builder. \\\n",
    "appName(\"Nested Schema\"). \\\n",
    "getOrCreate()"
   ]
  },
  {
   "cell_type": "code",
   "execution_count": 3,
   "metadata": {},
   "outputs": [],
   "source": [
    "cust_schema = \"cust_id long, full_name struct<first_name: string, last_name: string>, city string\""
   ]
  },
  {
   "cell_type": "code",
   "execution_count": 4,
   "metadata": {},
   "outputs": [],
   "source": [
    "cust_schema_2 = StructType([\n",
    "    StructField(\"cust_id\", IntegerType()),\n",
    "    StructField(\"full_name\", StructType([\n",
    "        StructField(\"first_name\", StringType()),\n",
    "        StructField(\"last_name\", StringType())\n",
    "    ])),\n",
    "    StructField(\"city\", StringType())\n",
    "])"
   ]
  },
  {
   "cell_type": "code",
   "execution_count": 5,
   "metadata": {},
   "outputs": [
    {
     "name": "stdout",
     "output_type": "stream",
     "text": [
      "+-------+-------------+-----+\n",
      "|cust_id|    full_name| city|\n",
      "+-------+-------------+-----+\n",
      "|      1|    {Mai, DE}| Lyon|\n",
      "|      2|{Nam, Nguyen}|Hanoi|\n",
      "|      3|  {Hoa, Tran}|  HCM|\n",
      "+-------+-------------+-----+\n",
      "\n",
      "root\n",
      " |-- cust_id: long (nullable = true)\n",
      " |-- full_name: struct (nullable = true)\n",
      " |    |-- first_name: string (nullable = true)\n",
      " |    |-- last_name: string (nullable = true)\n",
      " |-- city: string (nullable = true)\n",
      "\n"
     ]
    }
   ],
   "source": [
    "df = spark.read.json(\"./dataset/cust_nested.json\", schema=cust_schema, multiLine=True)\n",
    "df.show()\n",
    "df.printSchema()"
   ]
  },
  {
   "cell_type": "code",
   "execution_count": 6,
   "metadata": {},
   "outputs": [
    {
     "name": "stdout",
     "output_type": "stream",
     "text": [
      "+-------+-------------+-----+\n",
      "|cust_id|    full_name| city|\n",
      "+-------+-------------+-----+\n",
      "|      1|    {Mai, DE}| Lyon|\n",
      "|      2|{Nam, Nguyen}|Hanoi|\n",
      "|      3|  {Hoa, Tran}|  HCM|\n",
      "+-------+-------------+-----+\n",
      "\n",
      "root\n",
      " |-- cust_id: integer (nullable = true)\n",
      " |-- full_name: struct (nullable = true)\n",
      " |    |-- first_name: string (nullable = true)\n",
      " |    |-- last_name: string (nullable = true)\n",
      " |-- city: string (nullable = true)\n",
      "\n"
     ]
    }
   ],
   "source": [
    "df_2= spark.read.json(\"./dataset/cust_nested.json\", schema=cust_schema_2, multiLine=True)\n",
    "df_2.show()\n",
    "df_2.printSchema()"
   ]
  },
  {
   "cell_type": "code",
   "execution_count": null,
   "metadata": {},
   "outputs": [],
   "source": []
  }
 ],
 "metadata": {
  "kernelspec": {
   "display_name": "Python 3",
   "language": "python",
   "name": "python3"
  },
  "language_info": {
   "codemirror_mode": {
    "name": "ipython",
    "version": 3
   },
   "file_extension": ".py",
   "mimetype": "text/x-python",
   "name": "python",
   "nbconvert_exporter": "python",
   "pygments_lexer": "ipython3",
   "version": "3.10.11"
  }
 },
 "nbformat": 4,
 "nbformat_minor": 2
}
