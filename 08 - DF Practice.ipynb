{
 "cells": [
  {
   "cell_type": "code",
   "execution_count": 1,
   "metadata": {},
   "outputs": [],
   "source": [
    "from pyspark.sql import SparkSession\n",
    "from pyspark.sql.functions import col, expr, when, round, floor, ceil, lower, upper"
   ]
  },
  {
   "cell_type": "code",
   "execution_count": 2,
   "metadata": {},
   "outputs": [],
   "source": [
    "spark = SparkSession.builder. \\\n",
    "appName(\"DF Practice\"). \\\n",
    "getOrCreate()"
   ]
  },
  {
   "cell_type": "code",
   "execution_count": 3,
   "metadata": {},
   "outputs": [],
   "source": [
    "df = spark.read.csv(\"./dataset/product.csv\", header=True, inferSchema=True)"
   ]
  },
  {
   "cell_type": "code",
   "execution_count": 4,
   "metadata": {},
   "outputs": [
    {
     "data": {
      "text/plain": [
       "5"
      ]
     },
     "execution_count": 4,
     "metadata": {},
     "output_type": "execute_result"
    }
   ],
   "source": [
    "df.count()"
   ]
  },
  {
   "cell_type": "code",
   "execution_count": 5,
   "metadata": {},
   "outputs": [
    {
     "name": "stdout",
     "output_type": "stream",
     "text": [
      "+----------+-------------------+-----------------+-------------+--------+\n",
      "|product_id|product_category_id|     product_name|product_price|quantity|\n",
      "+----------+-------------------+-----------------+-------------+--------+\n",
      "|         1|                  2|  Quest Q64 10 FT|        59.98|       1|\n",
      "|         2|                  2|  Nike Men Finger|       129.99|       5|\n",
      "|         3|                  2|       Nike Adult|        89.99|       2|\n",
      "|         4|                  2| Under Armour Men|        89.99|      10|\n",
      "|         5|                  2|Under Armour Kids|       199.99|       1|\n",
      "+----------+-------------------+-----------------+-------------+--------+\n",
      "\n"
     ]
    }
   ],
   "source": [
    "df.show(5)"
   ]
  },
  {
   "cell_type": "markdown",
   "metadata": {},
   "source": [
    "### Thêm cột total_price"
   ]
  },
  {
   "cell_type": "code",
   "execution_count": 6,
   "metadata": {},
   "outputs": [
    {
     "name": "stdout",
     "output_type": "stream",
     "text": [
      "+----------+-------------------+-----------------+-------------+--------+-----------+\n",
      "|product_id|product_category_id|     product_name|product_price|quantity|total_price|\n",
      "+----------+-------------------+-----------------+-------------+--------+-----------+\n",
      "|         1|                  2|  Quest Q64 10 FT|        59.98|       1|      59.98|\n",
      "|         2|                  2|  Nike Men Finger|       129.99|       5|     649.95|\n",
      "|         3|                  2|       Nike Adult|        89.99|       2|     179.98|\n",
      "|         4|                  2| Under Armour Men|        89.99|      10|      899.9|\n",
      "|         5|                  2|Under Armour Kids|       199.99|       1|     199.99|\n",
      "+----------+-------------------+-----------------+-------------+--------+-----------+\n",
      "\n"
     ]
    }
   ],
   "source": [
    "df.withColumn(\"total_price\", col(\"product_price\") * col(\"quantity\")).show()"
   ]
  },
  {
   "cell_type": "code",
   "execution_count": 7,
   "metadata": {},
   "outputs": [
    {
     "name": "stdout",
     "output_type": "stream",
     "text": [
      "+----------+-------------------+-----------------+-------------+--------+-----------+\n",
      "|product_id|product_category_id|     product_name|product_price|quantity|total_price|\n",
      "+----------+-------------------+-----------------+-------------+--------+-----------+\n",
      "|         1|                  2|  Quest Q64 10 FT|        59.98|       1|      59.98|\n",
      "|         2|                  2|  Nike Men Finger|       129.99|       5|     649.95|\n",
      "|         3|                  2|       Nike Adult|        89.99|       2|     179.98|\n",
      "|         4|                  2| Under Armour Men|        89.99|      10|      899.9|\n",
      "|         5|                  2|Under Armour Kids|       199.99|       1|     199.99|\n",
      "+----------+-------------------+-----------------+-------------+--------+-----------+\n",
      "\n"
     ]
    }
   ],
   "source": [
    "df.select(\"*\", expr(\"product_price * quantity as total_price\")).show()"
   ]
  },
  {
   "cell_type": "code",
   "execution_count": 8,
   "metadata": {},
   "outputs": [
    {
     "name": "stdout",
     "output_type": "stream",
     "text": [
      "+----------+-------------------+-----------------+-------------+--------+-----------+\n",
      "|product_id|product_category_id|     product_name|product_price|quantity|total_price|\n",
      "+----------+-------------------+-----------------+-------------+--------+-----------+\n",
      "|         1|                  2|  Quest Q64 10 FT|        59.98|       1|      59.98|\n",
      "|         2|                  2|  Nike Men Finger|       129.99|       5|     649.95|\n",
      "|         3|                  2|       Nike Adult|        89.99|       2|     179.98|\n",
      "|         4|                  2| Under Armour Men|        89.99|      10|      899.9|\n",
      "|         5|                  2|Under Armour Kids|       199.99|       1|     199.99|\n",
      "+----------+-------------------+-----------------+-------------+--------+-----------+\n",
      "\n"
     ]
    }
   ],
   "source": [
    "df.selectExpr(\"*\", \"product_price * quantity as total_price\").show()"
   ]
  },
  {
   "cell_type": "markdown",
   "metadata": {},
   "source": [
    "### Sửa giá trị trong cột product_price"
   ]
  },
  {
   "cell_type": "code",
   "execution_count": 9,
   "metadata": {},
   "outputs": [
    {
     "name": "stdout",
     "output_type": "stream",
     "text": [
      "+----------+-------------------+-----------------+-------------+--------+\n",
      "|product_id|product_category_id|     product_name|product_price|quantity|\n",
      "+----------+-------------------+-----------------+-------------+--------+\n",
      "|         1|                  2|  Quest Q64 10 FT|        59.98|       1|\n",
      "|         2|                  2|  Nike Men Finger|       129.99|       5|\n",
      "|         3|                  2|       Nike Adult|        89.99|       2|\n",
      "|         4|                  2| Under Armour Men|        89.99|      10|\n",
      "|         5|                  2|Under Armour Kids|       199.99|       1|\n",
      "+----------+-------------------+-----------------+-------------+--------+\n",
      "\n"
     ]
    }
   ],
   "source": [
    "df.withColumn(\"product_price\",\n",
    "              when(lower(col(\"product_name\")).contains(\"Nike\"), round(col(\"product_price\") * 1.2, 2))\n",
    "              .when(lower(col(\"product_name\")).contains(\"Armour\"), round(col(\"product_price\") * 1.5, 2))\n",
    "              .otherwise(col(\"product_price\"))\n",
    "              ).show()"
   ]
  },
  {
   "cell_type": "code",
   "execution_count": 10,
   "metadata": {},
   "outputs": [
    {
     "name": "stdout",
     "output_type": "stream",
     "text": [
      "+----------+-------------------+-----------------+--------+-------------+\n",
      "|product_id|product_category_id|     product_name|quantity|product_price|\n",
      "+----------+-------------------+-----------------+--------+-------------+\n",
      "|         1|                  2|  Quest Q64 10 FT|       1|        59.98|\n",
      "|         2|                  2|  Nike Men Finger|       5|       129.99|\n",
      "|         3|                  2|       Nike Adult|       2|        89.99|\n",
      "|         4|                  2| Under Armour Men|      10|        89.99|\n",
      "|         5|                  2|Under Armour Kids|       1|       199.99|\n",
      "+----------+-------------------+-----------------+--------+-------------+\n",
      "\n"
     ]
    }
   ],
   "source": [
    "df.selectExpr(\"*\", \n",
    "              \"\"\"\n",
    "            ROUND(\n",
    "            CASE\n",
    "            WHEN LOWER(product_name) LIKE '%Nike%' THEN product_price * 1.2\n",
    "            WHEN LOWER(product_name) LIKE '%Armour%' THEN product_price * 1.5 \n",
    "            ELSE product_price\n",
    "            END, 2) AS new_price             \n",
    "\"\"\").drop(\"product_price\").withColumnRenamed(\"new_price\", \"product_price\").show()"
   ]
  },
  {
   "cell_type": "code",
   "execution_count": null,
   "metadata": {},
   "outputs": [],
   "source": []
  }
 ],
 "metadata": {
  "kernelspec": {
   "display_name": "Python 3",
   "language": "python",
   "name": "python3"
  },
  "language_info": {
   "codemirror_mode": {
    "name": "ipython",
    "version": 3
   },
   "file_extension": ".py",
   "mimetype": "text/x-python",
   "name": "python",
   "nbconvert_exporter": "python",
   "pygments_lexer": "ipython3",
   "version": "3.10.11"
  }
 },
 "nbformat": 4,
 "nbformat_minor": 2
}
